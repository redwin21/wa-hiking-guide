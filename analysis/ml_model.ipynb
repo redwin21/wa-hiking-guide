{
 "cells": [
  {
   "cell_type": "code",
   "execution_count": null,
   "metadata": {},
   "outputs": [],
   "source": [
    "import pandas as pd\n",
    "import numpy as np\n",
    "import matplotlib.pyplot as plt\n",
    "%matplotlib inline\n",
    "plt.style.use('ggplot')\n",
    "\n",
    "from sklearn.model_selection import train_test_split\n",
    "from sklearn.pipeline import make_pipeline\n",
    "from sklearn.ensemble import GradientBoostingRegressor"
   ]
  },
  {
   "cell_type": "code",
   "execution_count": null,
   "metadata": {},
   "outputs": [],
   "source": [
    "# Clean data using helper function\n",
    "data = pd.read_csv('../data/churn_train.csv')\n",
    "data_clean = clean_churn_data(data)\n",
    "\n",
    "# Create a copy of data for making models\n",
    "df_copy = data_clean.copy()\n",
    "y = df_copy.pop('churn?').values\n",
    "X = df_copy.values\n",
    "\n",
    "# Create train test split\n",
    "X_train, X_test, y_train, y_test = train_test_split(X,y)\n",
    "X_train.shape, X_test.shape"
   ]
  },
  {
   "cell_type": "code",
   "execution_count": null,
   "metadata": {},
   "outputs": [],
   "source": [
    "# Make model\n",
    "model = GradientBoostingClassifier()\n",
    "model.fit(X_train, y_train)\n",
    "y_hat = model.predict(X_test)"
   ]
  },
  {
   "cell_type": "code",
   "execution_count": null,
   "metadata": {},
   "outputs": [],
   "source": [
    "# Feature Importances\n",
    "importances = pd.DataFrame({'Feature Importances': model.feature_importances_}, \n",
    "                       index=df_copy.columns)\n",
    "\n",
    "importances = importances.sort_values(by='Feature Importances')\n",
    "importances.plot(kind='barh')\n",
    "plt.title(\"Feature Importances in Gradient Boosting Regressor\")\n",
    "plt.savefig(\"../images/feature_import_gbc.png\", bbox_inches='tight', dpi=350)"
   ]
  },
  {
   "cell_type": "code",
   "execution_count": null,
   "metadata": {},
   "outputs": [],
   "source": [
    "\n",
    "# First look at n_estimators\n",
    "n = 3000\n",
    "model = GradientBoostingClassifier(n_estimators=n)\n",
    "model.fit(X_train, y_train)\n",
    "y_pred = model.predict(X_test)\n",
    "\n",
    "train_score, test_score = train_test_score(3000, model, X_train, X_test, y_train, y_test)"
   ]
  },
  {
   "cell_type": "code",
   "execution_count": null,
   "metadata": {},
   "outputs": [],
   "source": [
    "fig, ax = plt.subplots()\n",
    "ax.plot(train_score[:1000], label=\"Training Errors\")\n",
    "ax.plot(test_score[:1000], label=\"Testing Errors\")\n",
    "ax.set_xlabel(\"Number of Estimators/Trees\")\n",
    "ax.set_ylabel(\"Average Errors\")\n",
    "ax.legend()\n",
    "ax.set_title(\"Testing and Training Errors vs N_estimators\")\n",
    "ax.axvline(x=826, color='black', linewidth=0.4)\n",
    "plt.savefig(\"../img/test_train_errors_gbc.png\", dpi=250)\n",
    "\n",
    "opt_estimators = np.argmin(test_score)\n",
    "print(opt_estimators)"
   ]
  },
  {
   "cell_type": "code",
   "execution_count": null,
   "metadata": {},
   "outputs": [],
   "source": [
    "# Now look at learning rate and plot ROC curve for each\n",
    "lr = [0.01, 0.05, 0.1, 0.5, 1]\n",
    "fig, ax = plt.subplots()\n",
    "\n",
    "# Loop through learning rates\n",
    "for l in lr:\n",
    "    n_estimators = 1000\n",
    "    m = GradientBoostingClassifier(learning_rate=l, n_estimators=n_estimators)\n",
    "    m.fit(X_train, y_train)\n",
    "    \n",
    "    train_score, test_score = train_test_score(n_estimators, m, X_train, X_test, y_train, y_test)\n",
    "    \n",
    "    ax.plot(test_score, label=l)\n",
    "    ax.set_title(\"Test Errors by Learning Rate\")\n",
    "    ax.set_xlabel(\"N Estimators\")\n",
    "    ax.set_ylabel(\"Test Errors\")    \n",
    "    ax.legend()\n",
    "    plt.savefig('../img/lr_errors_gbc.png', dpi=250)"
   ]
  }
 ],
 "metadata": {
  "language_info": {
   "codemirror_mode": {
    "name": "ipython",
    "version": 3
   },
   "file_extension": ".py",
   "mimetype": "text/x-python",
   "name": "python",
   "nbconvert_exporter": "python",
   "pygments_lexer": "ipython3",
   "version": 3
  },
  "orig_nbformat": 2
 },
 "nbformat": 4,
 "nbformat_minor": 2
}