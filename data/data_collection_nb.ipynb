{
 "cells": [
  {
   "cell_type": "code",
   "execution_count": 156,
   "metadata": {},
   "outputs": [
    {
     "output_type": "stream",
     "name": "stdout",
     "text": "The autoreload extension is already loaded. To reload it, use:\n  %reload_ext autoreload\n"
    }
   ],
   "source": [
    "import pandas as pd\n",
    "import numpy as np\n",
    "from pymongo import MongoClient\n",
    "import json, re, requests, urllib, time, os\n",
    "from bs4 import BeautifulSoup\n",
    "from data_collection import load_data\n",
    "from data_collection import add_distance\n",
    "from data_collection import get_hike_pages\n",
    "from selenium import webdriver\n",
    "from selenium.webdriver.firefox.firefox_binary import FirefoxBinary\n",
    "%load_ext autoreload\n",
    "%autoreload 2"
   ]
  },
  {
   "cell_type": "code",
   "execution_count": 109,
   "metadata": {},
   "outputs": [],
   "source": [
    "hikes = load_data('wta-parks-data.json')"
   ]
  },
  {
   "cell_type": "code",
   "execution_count": 110,
   "metadata": {},
   "outputs": [
    {
     "output_type": "stream",
     "name": "stdout",
     "text": "<class 'pandas.core.frame.DataFrame'>\nRangeIndex: 3412 entries, 0 to 3411\nData columns (total 28 columns):\n #   Column                                                     Non-Null Count  Dtype  \n---  ------                                                     --------------  -----  \n 0   name                                                       3412 non-null   object \n 1   url                                                        3412 non-null   object \n 2   length                                                     1921 non-null   float64\n 3   highest point                                              1492 non-null   float64\n 4   gain                                                       1492 non-null   float64\n 5   lat                                                        2273 non-null   float64\n 6   lon                                                        2273 non-null   float64\n 7   pass: Discover Pass                                        3412 non-null   int64  \n 8   pass: National Monument Fee                                3412 non-null   int64  \n 9   pass: National Park Pass                                   3412 non-null   int64  \n 10  pass: None                                                 3412 non-null   int64  \n 11  pass: Northwest Forest Pass                                3412 non-null   int64  \n 12  pass: Sno-Parks Permit                                     3412 non-null   int64  \n 13  pass: Wilderness permit. Self-issue at trailhead (no fee)  3412 non-null   int64  \n 14  Wildflowers/Meadows                                        3412 non-null   float64\n 15  Dogs allowed on leash                                      3412 non-null   float64\n 16  Good for kids                                              3412 non-null   float64\n 17  Lakes                                                      3412 non-null   float64\n 18  Fall foliage                                               3412 non-null   float64\n 19  Coast                                                      3412 non-null   float64\n 20  Mountain views                                             3412 non-null   float64\n 21  Wildlife                                                   3412 non-null   float64\n 22  Old growth                                                 3412 non-null   float64\n 23  Summits                                                    3412 non-null   float64\n 24  Ridges/passes                                              3412 non-null   float64\n 25  Established campsites                                      3412 non-null   float64\n 26  Waterfalls                                                 3412 non-null   float64\n 27  Rivers                                                     3412 non-null   float64\ndtypes: float64(19), int64(7), object(2)\nmemory usage: 746.5+ KB\n"
    }
   ],
   "source": [
    "hikes.info()"
   ]
  },
  {
   "cell_type": "code",
   "execution_count": 111,
   "metadata": {},
   "outputs": [
    {
     "output_type": "execute_result",
     "data": {
      "text/plain": "                  name                                                url  \\\n0  Luther Burbank Park  http://www.wta.org/go-hiking/hikes/luther-burb...   \n1             Gem Lake        http://www.wta.org/go-hiking/hikes/gem-lake   \n\n   length  highest point    gain      lat       lon  pass: Discover Pass  \\\n0     3.0          120.0   120.0  47.5890 -122.2270                    0   \n1    10.0         4857.0  1800.0  47.4453 -121.4235                    0   \n\n   pass: National Monument Fee  pass: National Park Pass  ...  Fall foliage  \\\n0                            0                         0  ...           1.0   \n1                            0                         0  ...           1.0   \n\n   Coast  Mountain views  Wildlife  Old growth  Summits  Ridges/passes  \\\n0    1.0             0.0       0.0         0.0      0.0            0.0   \n1    0.0             1.0       0.0         0.0      0.0            0.0   \n\n   Established campsites  Waterfalls  Rivers  \n0                    0.0         0.0     0.0  \n1                    0.0         0.0     0.0  \n\n[2 rows x 28 columns]",
      "text/html": "<div>\n<style scoped>\n    .dataframe tbody tr th:only-of-type {\n        vertical-align: middle;\n    }\n\n    .dataframe tbody tr th {\n        vertical-align: top;\n    }\n\n    .dataframe thead th {\n        text-align: right;\n    }\n</style>\n<table border=\"1\" class=\"dataframe\">\n  <thead>\n    <tr style=\"text-align: right;\">\n      <th></th>\n      <th>name</th>\n      <th>url</th>\n      <th>length</th>\n      <th>highest point</th>\n      <th>gain</th>\n      <th>lat</th>\n      <th>lon</th>\n      <th>pass: Discover Pass</th>\n      <th>pass: National Monument Fee</th>\n      <th>pass: National Park Pass</th>\n      <th>...</th>\n      <th>Fall foliage</th>\n      <th>Coast</th>\n      <th>Mountain views</th>\n      <th>Wildlife</th>\n      <th>Old growth</th>\n      <th>Summits</th>\n      <th>Ridges/passes</th>\n      <th>Established campsites</th>\n      <th>Waterfalls</th>\n      <th>Rivers</th>\n    </tr>\n  </thead>\n  <tbody>\n    <tr>\n      <th>0</th>\n      <td>Luther Burbank Park</td>\n      <td>http://www.wta.org/go-hiking/hikes/luther-burb...</td>\n      <td>3.0</td>\n      <td>120.0</td>\n      <td>120.0</td>\n      <td>47.5890</td>\n      <td>-122.2270</td>\n      <td>0</td>\n      <td>0</td>\n      <td>0</td>\n      <td>...</td>\n      <td>1.0</td>\n      <td>1.0</td>\n      <td>0.0</td>\n      <td>0.0</td>\n      <td>0.0</td>\n      <td>0.0</td>\n      <td>0.0</td>\n      <td>0.0</td>\n      <td>0.0</td>\n      <td>0.0</td>\n    </tr>\n    <tr>\n      <th>1</th>\n      <td>Gem Lake</td>\n      <td>http://www.wta.org/go-hiking/hikes/gem-lake</td>\n      <td>10.0</td>\n      <td>4857.0</td>\n      <td>1800.0</td>\n      <td>47.4453</td>\n      <td>-121.4235</td>\n      <td>0</td>\n      <td>0</td>\n      <td>0</td>\n      <td>...</td>\n      <td>1.0</td>\n      <td>0.0</td>\n      <td>1.0</td>\n      <td>0.0</td>\n      <td>0.0</td>\n      <td>0.0</td>\n      <td>0.0</td>\n      <td>0.0</td>\n      <td>0.0</td>\n      <td>0.0</td>\n    </tr>\n  </tbody>\n</table>\n<p>2 rows × 28 columns</p>\n</div>"
     },
     "metadata": {},
     "execution_count": 111
    }
   ],
   "source": [
    "hikes.head(2)"
   ]
  },
  {
   "cell_type": "code",
   "execution_count": 203,
   "metadata": {},
   "outputs": [],
   "source": [
    "client = MongoClient('localhost', 27017)\n",
    "db = client['wta']\n",
    "collection = db['hike_pages']"
   ]
  },
  {
   "cell_type": "code",
   "execution_count": null,
   "metadata": {},
   "outputs": [],
   "source": [
    "from data_collection import main\n",
    "main()"
   ]
  }
 ],
 "metadata": {
  "language_info": {
   "codemirror_mode": {
    "name": "ipython",
    "version": 3
   },
   "file_extension": ".py",
   "mimetype": "text/x-python",
   "name": "python",
   "nbconvert_exporter": "python",
   "pygments_lexer": "ipython3",
   "version": "3.8.0-final"
  },
  "orig_nbformat": 2,
  "kernelspec": {
   "name": "gal",
   "display_name": "Python (gal)"
  }
 },
 "nbformat": 4,
 "nbformat_minor": 2
}